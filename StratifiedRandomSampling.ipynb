{
 "cells": [
  {
   "cell_type": "markdown",
   "metadata": {},
   "source": [
    "# Simple Random Sampling vs. Stratified Random Sampling\n",
    "## An A/B test on click through rates\n",
    "By: Jason Sadowski  \n",
    "Date: 2019-12-12"
   ]
  },
  {
   "cell_type": "code",
   "execution_count": 1,
   "metadata": {},
   "outputs": [],
   "source": [
    "import pandas as pd\n",
    "import numpy as np\n",
    "import matplotlib.pyplot as plt\n",
    "from scipy import stats\n",
    "from statsmodels.stats.anova import anova_lm\n",
    "from statsmodels.formula.api import ols"
   ]
  },
  {
   "cell_type": "markdown",
   "metadata": {},
   "source": [
    "# 0. Define workshorse functions"
   ]
  },
  {
   "cell_type": "code",
   "execution_count": 2,
   "metadata": {},
   "outputs": [],
   "source": [
    "def assign_treatments(df, experiment_size, seed  = 42, level = 0):\n",
    "    \"\"\"\n",
    "    1. Given a dataframe, add a column for treatment\n",
    "    2. Randomly assign half of those rows to the 'B' treatment\n",
    "    3. Get the dummy variables for the treatment column\n",
    "    4. Get the dummy variables for the city column \n",
    "    5. Return a modified dataframe\n",
    "    \"\"\"\n",
    "    workdf = df.copy()\n",
    "    workdf['treatment'] = 'A'\n",
    "    if level == 0:\n",
    "        experiment_idx = workdf.sample(int(experiment_size/2),random_state = seed).index\n",
    "    if level == 1:\n",
    "        experiment_idx = list(workdf[workdf['town_size']=='town']\\\n",
    "                              .sample(int(experiment_size/4),random_state = seed).index)\\\n",
    "                         + list(workdf[workdf['town_size']=='city']\\\n",
    "                               .sample(int(experiment_size/4),random_state = seed).index)\n",
    "\n",
    "    workdf.loc[experiment_idx,'treatment'] = 'B'\n",
    "    dummies = pd.get_dummies(workdf['treatment'])\n",
    "    citydummies = pd.get_dummies(workdf['town_size'])\n",
    "    workdf = pd.concat([workdf,dummies,citydummies], axis = 1)\n",
    "    return(workdf)\n",
    "\n",
    "def calc_response(df, plist, experiment_size):\n",
    "    \"\"\"\n",
    "    Returns a pandas series of a binomial response\n",
    "    \"\"\"\n",
    "    response = df['city']*df['A']\\\n",
    "                        *np.random.binomial(n = 1, p = plist[0], size = experiment_size)\\\n",
    "                + df['town']*df['A']\\\n",
    "                        *np.random.binomial(n = 1, p = plist[1], size = experiment_size)\\\n",
    "                + df['city']*df['B']\\\n",
    "                        *np.random.binomial(n = 1, p = plist[0] + plist[2],\\\n",
    "                                            size = experiment_size)\\\n",
    "                + df['town']*df['B']\\\n",
    "                        *np.random.binomial(n = 1, p = plist[1] + plist[2],\\\n",
    "                                            size = experiment_size)\n",
    "    return(response)\n",
    "\n",
    "def pvalue_print(df, level = 0):\n",
    "    \"\"\"\n",
    "    Get the estimated p value for each group\n",
    "    Print them out for easy inspection\n",
    "    \"\"\"\n",
    "    if level == 0:\n",
    "        vec = ['A','B']\n",
    "        phat_list = []\n",
    "        psd_list = []\n",
    "        for val in vec:\n",
    "            n = len(df['response'][df[val]==1])\n",
    "            p_hat = np.mean(df['response'][df[val]==1])\n",
    "            phat_list.append(p_hat)\n",
    "            print('p_hat' + val,'=',p_hat)\n",
    "            p_sd = np.sqrt(p_hat*(1-p_hat)/n)\n",
    "            print('p_hat_sd' + val,'=',p_sd)\n",
    "            psd_list.append(p_sd)\n",
    "    if level == 1:\n",
    "        vec1 = ['A','B']\n",
    "        vec2 = ['city','town']\n",
    "        phat_list = []\n",
    "        psd_list = []\n",
    "        for i in vec1:\n",
    "            for j in vec2:\n",
    "                n = len(df['response'][(df[i]==1) & (df[j]==1)])\n",
    "                p_hat = np.mean(df['response'][(df[i]==1) & (df[j]==1)])\n",
    "                print('p_hat' + i + j,'=',p_hat)\n",
    "                phat_list.append(p_hat)\n",
    "                p_sd =  np.sqrt(p_hat*(1-p_hat)/n)\n",
    "                print('p_hat_sd' + i + j,'=',p_sd)\n",
    "                psd_list.append(p_sd)\n",
    "    return(phat_list, psd_list)"
   ]
  },
  {
   "cell_type": "markdown",
   "metadata": {},
   "source": [
    "# 1. Construct the population"
   ]
  },
  {
   "cell_type": "code",
   "execution_count": 3,
   "metadata": {},
   "outputs": [],
   "source": [
    "np.random.seed(42)\n",
    "population_size = 500000\n",
    "populationdf = pd.DataFrame(list(range(population_size)))\n",
    "populationdf.columns = ['id']\n",
    "#randomly determine whether the individuals are from cities or towns\n",
    "town_size = ['city']*15 + ['town']\n",
    "populationdf['town_size'] = np.random.choice(town_size,size = population_size)"
   ]
  },
  {
   "cell_type": "code",
   "execution_count": 4,
   "metadata": {},
   "outputs": [
    {
     "data": {
      "text/plain": [
       "city    468520\n",
       "town     31480\n",
       "Name: town_size, dtype: int64"
      ]
     },
     "execution_count": 4,
     "metadata": {},
     "output_type": "execute_result"
    }
   ],
   "source": [
    "#How many unique towns and cities are in the dataset?\n",
    "populationdf.town_size.value_counts()"
   ]
  },
  {
   "cell_type": "markdown",
   "metadata": {},
   "source": [
    "# 2. Randomly sample from the population"
   ]
  },
  {
   "cell_type": "code",
   "execution_count": 5,
   "metadata": {},
   "outputs": [],
   "source": [
    "experiment_size = int(1000)\n",
    "completerandom_idx = populationdf.sample(int(experiment_size),random_state = 21).index\n",
    "\n",
    "completerandom_df = populationdf.loc[completerandom_idx,:]\n",
    "completerandom_df = assign_treatments(completerandom_df, experiment_size)"
   ]
  },
  {
   "cell_type": "code",
   "execution_count": 6,
   "metadata": {},
   "outputs": [
    {
     "data": {
      "text/html": [
       "<div>\n",
       "<style scoped>\n",
       "    .dataframe tbody tr th:only-of-type {\n",
       "        vertical-align: middle;\n",
       "    }\n",
       "\n",
       "    .dataframe tbody tr th {\n",
       "        vertical-align: top;\n",
       "    }\n",
       "\n",
       "    .dataframe thead th {\n",
       "        text-align: right;\n",
       "    }\n",
       "</style>\n",
       "<table border=\"1\" class=\"dataframe\">\n",
       "  <thead>\n",
       "    <tr style=\"text-align: right;\">\n",
       "      <th></th>\n",
       "      <th>id</th>\n",
       "      <th>town_size</th>\n",
       "      <th>treatment</th>\n",
       "      <th>A</th>\n",
       "      <th>B</th>\n",
       "      <th>city</th>\n",
       "      <th>town</th>\n",
       "    </tr>\n",
       "  </thead>\n",
       "  <tbody>\n",
       "    <tr>\n",
       "      <td>475807</td>\n",
       "      <td>475807</td>\n",
       "      <td>city</td>\n",
       "      <td>B</td>\n",
       "      <td>0</td>\n",
       "      <td>1</td>\n",
       "      <td>1</td>\n",
       "      <td>0</td>\n",
       "    </tr>\n",
       "    <tr>\n",
       "      <td>425191</td>\n",
       "      <td>425191</td>\n",
       "      <td>city</td>\n",
       "      <td>A</td>\n",
       "      <td>1</td>\n",
       "      <td>0</td>\n",
       "      <td>1</td>\n",
       "      <td>0</td>\n",
       "    </tr>\n",
       "    <tr>\n",
       "      <td>40378</td>\n",
       "      <td>40378</td>\n",
       "      <td>city</td>\n",
       "      <td>B</td>\n",
       "      <td>0</td>\n",
       "      <td>1</td>\n",
       "      <td>1</td>\n",
       "      <td>0</td>\n",
       "    </tr>\n",
       "    <tr>\n",
       "      <td>324437</td>\n",
       "      <td>324437</td>\n",
       "      <td>city</td>\n",
       "      <td>B</td>\n",
       "      <td>0</td>\n",
       "      <td>1</td>\n",
       "      <td>1</td>\n",
       "      <td>0</td>\n",
       "    </tr>\n",
       "    <tr>\n",
       "      <td>347750</td>\n",
       "      <td>347750</td>\n",
       "      <td>city</td>\n",
       "      <td>A</td>\n",
       "      <td>1</td>\n",
       "      <td>0</td>\n",
       "      <td>1</td>\n",
       "      <td>0</td>\n",
       "    </tr>\n",
       "  </tbody>\n",
       "</table>\n",
       "</div>"
      ],
      "text/plain": [
       "            id town_size treatment  A  B  city  town\n",
       "475807  475807      city         B  0  1     1     0\n",
       "425191  425191      city         A  1  0     1     0\n",
       "40378    40378      city         B  0  1     1     0\n",
       "324437  324437      city         B  0  1     1     0\n",
       "347750  347750      city         A  1  0     1     0"
      ]
     },
     "execution_count": 6,
     "metadata": {},
     "output_type": "execute_result"
    }
   ],
   "source": [
    "completerandom_df.head()"
   ]
  },
  {
   "cell_type": "markdown",
   "metadata": {},
   "source": [
    "# 3. Calculate the expected response in click through rate"
   ]
  },
  {
   "cell_type": "code",
   "execution_count": 7,
   "metadata": {},
   "outputs": [],
   "source": [
    "plist = [0.3,0.1,0.05]\n",
    "#the plist is a list of the different binomial probabilities associated with a click\n",
    "#big cities have an initial p of 0.2, and towns have an initial p of 0.1\n",
    "#the lift from the treatment is an additional p of 0.05"
   ]
  },
  {
   "cell_type": "code",
   "execution_count": 8,
   "metadata": {},
   "outputs": [],
   "source": [
    "completerandom_df['response'] = 0\n",
    "completerandom_df['response'] = calc_response(completerandom_df, plist, experiment_size)"
   ]
  },
  {
   "cell_type": "markdown",
   "metadata": {},
   "source": [
    "# 4. Calculate the mean and standard deviation for the A and B treatments\n",
    "- Here I'm simulating what would happen if I had conducted this experiment while ignoring the effect of city size"
   ]
  },
  {
   "cell_type": "code",
   "execution_count": 9,
   "metadata": {},
   "outputs": [
    {
     "name": "stdout",
     "output_type": "stream",
     "text": [
      "p_hatA = 0.288\n",
      "p_hat_sdA = 0.020251222185339826\n",
      "p_hatB = 0.314\n",
      "p_hat_sdB = 0.020755914819636352\n"
     ]
    }
   ],
   "source": [
    "phats, psds = pvalue_print(completerandom_df,level = 0)"
   ]
  },
  {
   "cell_type": "code",
   "execution_count": 10,
   "metadata": {},
   "outputs": [
    {
     "data": {
      "text/plain": [
       "Ttest_indResult(statistic=-0.8956973262397737, pvalue=0.37063042188578665)"
      ]
     },
     "execution_count": 10,
     "metadata": {},
     "output_type": "execute_result"
    }
   ],
   "source": [
    "stats.ttest_ind(completerandom_df['response'][completerandom_df['A']==1], \\\n",
    "                completerandom_df['response'][completerandom_df['B']==1])"
   ]
  },
  {
   "cell_type": "code",
   "execution_count": 11,
   "metadata": {
    "scrolled": true
   },
   "outputs": [
    {
     "data": {
      "image/png": "[encoded data removed]",
      "text/plain": [
       "<Figure size 432x360 with 1 Axes>"
      ]
     },
     "metadata": {
      "needs_background": "light"
     },
     "output_type": "display_data"
    }
   ],
   "source": [
    "plt.rcParams.update({'font.size': 16})\n",
    "plt.rcParams[\"figure.figsize\"] = (6,5)\n",
    "fig, ax = plt.subplots()\n",
    "ncats = np.arange(1)\n",
    "width = 0.35\n",
    "rects1 = ax.bar(0, height = phats[0], width = width, yerr = psds[0],\\\n",
    "                align='center', ecolor='black', capsize=5, label = 'A')\n",
    "rects2 = ax.bar(width*1.5, height = phats[1],width = width, yerr = psds[1],\\\n",
    "                align='center', ecolor='black', capsize=5, label = 'B')\n",
    "ax.set_ylabel('Click through Probability')\n",
    "ax.set_xticks([0,width*1.5])\n",
    "ax.set_xticklabels(['A','B'])\n",
    "\n",
    "# Save the figure and show\n",
    "plt.tight_layout()\n",
    "#plt.savefig('CompleteRandomSampling.png', dpi = 300, bbox_inches = 'tight')"
   ]
  },
  {
   "cell_type": "markdown",
   "metadata": {},
   "source": [
    "# 4. How many town users are in our dataset?"
   ]
  },
  {
   "cell_type": "code",
   "execution_count": 12,
   "metadata": {},
   "outputs": [
    {
     "name": "stdout",
     "output_type": "stream",
     "text": [
      "city    929\n",
      "town     71\n",
      "Name: town_size, dtype: int64\n",
      "city    476\n",
      "town     24\n",
      "Name: town_size, dtype: int64\n",
      "city    453\n",
      "town     47\n",
      "Name: town_size, dtype: int64\n"
     ]
    }
   ],
   "source": [
    "#Number of town users in dataset\n",
    "print(completerandom_df.town_size.value_counts())\n",
    "\n",
    "#NUmber of tonw users in each treatment\n",
    "print(completerandom_df[completerandom_df['A']==1].town_size.value_counts())\n",
    "print(completerandom_df[completerandom_df['B']==1].town_size.value_counts())"
   ]
  },
  {
   "cell_type": "markdown",
   "metadata": {},
   "source": [
    "# 5. Stratify sampling to include both towns and cities\n"
   ]
  },
  {
   "cell_type": "code",
   "execution_count": 13,
   "metadata": {},
   "outputs": [],
   "source": [
    "townid = populationdf['id'][populationdf['town_size']=='town']\n",
    "bigcityid = populationdf['id'][populationdf['town_size']=='city']\n",
    "\n",
    "stratified_idx = list(townid.sample(int(experiment_size/2),random_state = 42).index) \\\n",
    "                 + list(bigcityid.sample(int(experiment_size/2),random_state = 42).index)\n",
    "stratified_df = populationdf.loc[stratified_idx,:]"
   ]
  },
  {
   "cell_type": "code",
   "execution_count": 14,
   "metadata": {},
   "outputs": [],
   "source": [
    "#randomly assign individuals from each class to a treatment\n",
    "stratified_df = assign_treatments(stratified_df, experiment_size, level = 1)"
   ]
  },
  {
   "cell_type": "code",
   "execution_count": 15,
   "metadata": {},
   "outputs": [
    {
     "name": "stdout",
     "output_type": "stream",
     "text": [
      "city    500\n",
      "town    500\n",
      "Name: town_size, dtype: int64\n",
      "city    250\n",
      "town    250\n",
      "Name: town_size, dtype: int64\n",
      "city    250\n",
      "town    250\n",
      "Name: town_size, dtype: int64\n"
     ]
    }
   ],
   "source": [
    "#sanity check to make sure I conducted the assignment correctly\n",
    "print(stratified_df.town_size.value_counts())\n",
    "print(stratified_df[stratified_df['A']==1].town_size.value_counts())\n",
    "print(stratified_df[stratified_df['B']==1].town_size.value_counts())"
   ]
  },
  {
   "cell_type": "markdown",
   "metadata": {},
   "source": [
    "# 6. Calculate response variable again"
   ]
  },
  {
   "cell_type": "code",
   "execution_count": 16,
   "metadata": {},
   "outputs": [],
   "source": [
    "stratified_df['response'] = 0\n",
    "stratified_df['response'] = calc_response(stratified_df, plist, experiment_size)"
   ]
  },
  {
   "cell_type": "code",
   "execution_count": 17,
   "metadata": {
    "scrolled": true
   },
   "outputs": [
    {
     "name": "stdout",
     "output_type": "stream",
     "text": [
      "p_hatA = 0.2\n",
      "p_hat_sdA = 0.01788854381999832\n",
      "p_hatB = 0.268\n",
      "p_hat_sdB = 0.0198078772209442\n"
     ]
    }
   ],
   "source": [
    "#useful if I need to plot the aggregated A vs. B treatemnts without breaking it up by cities or town\n",
    "phats, psds = pvalue_print(stratified_df,level = 0)"
   ]
  },
  {
   "cell_type": "code",
   "execution_count": 18,
   "metadata": {},
   "outputs": [
    {
     "name": "stdout",
     "output_type": "stream",
     "text": [
      "p_hatAcity = 0.316\n",
      "p_hat_sdAcity = 0.02940367323992021\n",
      "p_hatAtown = 0.084\n",
      "p_hat_sdAtown = 0.01754354582175451\n",
      "p_hatBcity = 0.36\n",
      "p_hat_sdBcity = 0.030357865537616442\n",
      "p_hatBtown = 0.176\n",
      "p_hat_sdBtown = 0.024085182166635154\n"
     ]
    }
   ],
   "source": [
    "phats, psds = pvalue_print(stratified_df,level = 1)"
   ]
  },
  {
   "cell_type": "code",
   "execution_count": 19,
   "metadata": {},
   "outputs": [
    {
     "data": {
      "text/plain": [
       "Ttest_indResult(statistic=-2.5452289793802843, pvalue=0.0110701396582563)"
      ]
     },
     "execution_count": 19,
     "metadata": {},
     "output_type": "execute_result"
    }
   ],
   "source": [
    "stats.ttest_ind(stratified_df['response'][stratified_df['A']==1], \\\n",
    "                stratified_df['response'][stratified_df['B']==1])"
   ]
  },
  {
   "cell_type": "code",
   "execution_count": 20,
   "metadata": {},
   "outputs": [],
   "source": [
    "#create a dataframe of the estimated p_hats and their standard deviations for plotting\n",
    "p_df = pd.DataFrame({'phats' : phats,\\\n",
    "                     'psds' : psds,\\\n",
    "                     'labels' : ['A_city','A_town','B_city','B_town']})\n",
    "p_df = p_df.pivot_table(columns = 'labels')\n",
    "p_df1 = p_df.iloc[:,[0,1]]\n",
    "p_df2 = p_df.iloc[:,[2,3]]"
   ]
  },
  {
   "cell_type": "code",
   "execution_count": 21,
   "metadata": {},
   "outputs": [
    {
     "data": {
      "image/png": "[encoded data removed]",
      "text/plain": [
       "<Figure size 432x360 with 1 Axes>"
      ]
     },
     "metadata": {
      "needs_background": "light"
     },
     "output_type": "display_data"
    }
   ],
   "source": [
    "plt.rcParams.update({'font.size': 16})\n",
    "plt.rcParams[\"figure.figsize\"] = (6,5)\n",
    "fig, ax = plt.subplots()\n",
    "x = np.arange(len(p_df1.columns))\n",
    "width = 0.35\n",
    "rects1 = ax.bar(x - width/2, height = p_df1.iloc[0], width = width, \\\n",
    "                yerr = p_df1.iloc[1], align='center', \\\n",
    "                ecolor='black', capsize=5, label = 'A')\n",
    "rects2 = ax.bar(x + width/2, height = p_df2.iloc[0],width = width, \n",
    "                yerr = p_df2.iloc[1], align='center', \\\n",
    "                ecolor='black', capsize=5, label = 'B')\n",
    "ax.set_ylabel('Click through Rate')\n",
    "ax.set_xticks(x)\n",
    "ax.set_xticklabels(['City','Town'])\n",
    "ax.legend()\n",
    "\n",
    "plt.tight_layout()\n",
    "#plt.savefig('StratifiedRandomSampling.png', dpi = 300, bbox_inches = 'tight')"
   ]
  },
  {
   "cell_type": "code",
   "execution_count": 22,
   "metadata": {},
   "outputs": [],
   "source": [
    "model = ols('response ~ treatment + town_size', data = stratified_df).fit()\n",
    "aov_table = anova_lm(model, typ=1)"
   ]
  },
  {
   "cell_type": "code",
   "execution_count": 23,
   "metadata": {},
   "outputs": [
    {
     "name": "stdout",
     "output_type": "stream",
     "text": [
      "              df   sum_sq    mean_sq          F        PR(>F)\n",
      "treatment    1.0    1.156   1.156000   6.890167  8.799737e-03\n",
      "town_size    1.0   10.816  10.816000  64.467167  2.750424e-15\n",
      "Residual   997.0  167.272   0.167775        NaN           NaN\n"
     ]
    }
   ],
   "source": [
    "print(aov_table)"
   ]
  }
 ],
 "metadata": {
  "kernelspec": {
   "display_name": "Python 3",
   "language": "python",
   "name": "python3"
  },
  "language_info": {
   "codemirror_mode": {
    "name": "ipython",
    "version": 3
   },
   "file_extension": ".py",
   "mimetype": "text/x-python",
   "name": "python",
   "nbconvert_exporter": "python",
   "pygments_lexer": "ipython3",
   "version": "3.7.4"
  }
 },
 "nbformat": 4,
 "nbformat_minor": 2
}
