{
 "cells": [
  {
   "cell_type": "code",
   "execution_count": 1,
   "metadata": {},
   "outputs": [],
   "source": [
    "import pandas as pd\n",
    "import numpy as np\n",
    "import matplotlib.pyplot as plt\n",
    "from scipy import stats"
   ]
  },
  {
   "cell_type": "markdown",
   "metadata": {},
   "source": [
    "# 0. Define workshorse functions"
   ]
  },
  {
   "cell_type": "code",
   "execution_count": 2,
   "metadata": {},
   "outputs": [],
   "source": [
    "def assign_treatments(df, experiment_size, seed  = 42, level = 0):\n",
    "    \"\"\"\n",
    "    1. Given a dataframe, add a column for treatment\n",
    "    2. Randomly assign half of those rows to the 'B' treatment\n",
    "    3. Get the dummy variables for the treatment column\n",
    "    4. Get the dummy variables for the city column \n",
    "    5. Return a modified dataframe\n",
    "    \"\"\"\n",
    "    workdf = df.copy()\n",
    "    workdf['treatment'] = 'A'\n",
    "    if level == 0:\n",
    "        experiment_idx = workdf.sample(int(experiment_size/2),random_state = seed).index\n",
    "    if level == 1:\n",
    "        experiment_idx = list(workdf[workdf['cities']=='town'].sample(int(experiment_size/4),random_state = seed).index)\\\n",
    "                         + list(workdf[workdf['cities']=='bigCity']\\\n",
    "                               .sample(int(experiment_size/4),random_state = seed).index)\n",
    "\n",
    "    workdf.loc[experiment_idx,'treatment'] = 'B'\n",
    "    dummies = pd.get_dummies(workdf['treatment'])\n",
    "    citydummies = pd.get_dummies(workdf['cities'])\n",
    "    workdf = pd.concat([workdf,dummies,citydummies], axis = 1)\n",
    "    return(workdf)\n",
    "\n",
    "def calc_response(df, plist, experiment_size):\n",
    "    \"\"\"\n",
    "    Returns a pandas series of a binomial response\n",
    "    \"\"\"\n",
    "    response = df['bigCity']*df['A']*np.random.binomial(n = 1, p = plist[0], size = experiment_size) \\\n",
    "                + df['town']*df['A']*np.random.binomial(n = 1, p = plist[1], size = experiment_size) \\\n",
    "                + df['bigCity']*df['B']*np.random.binomial(n = 1, p = plist[0] + plist[2], size = experiment_size)\\\n",
    "                + df['town']*df['B']*np.random.binomial(n = 1, p = plist[1] + plist[2], size = experiment_size)\n",
    "    return(response)\n",
    "\n",
    "def pvalue_print(df, level = 0):\n",
    "    if level == 0:\n",
    "        vec = ['A','B']\n",
    "        phat_list = []\n",
    "        psd_list = []\n",
    "        for val in vec:\n",
    "            n = len(df['response'][df[val]==1])\n",
    "            p_hat = np.mean(df['response'][df[val]==1])\n",
    "            phat_list.append(p_hat)\n",
    "            print('p_hat' + val,'=',p_hat)\n",
    "            p_sd = np.sqrt(p_hat*(1-p_hat)/n)\n",
    "            print('p_hat_sd' + val,'=',p_sd)\n",
    "            psd_list.append(p_sd)\n",
    "    if level == 1:\n",
    "        vec1 = ['A','B']\n",
    "        vec2 = ['bigCity','town']\n",
    "        phat_list = []\n",
    "        psd_list = []\n",
    "        for i in vec1:\n",
    "            for j in vec2:\n",
    "                n = len(df['response'][(df[i]==1) & (df[j]==1)])\n",
    "                p_hat = np.mean(df['response'][(df[i]==1) & (df[j]==1)])\n",
    "                print('p_hat' + i + j,'=',p_hat)\n",
    "                phat_list.append(p_hat)\n",
    "                p_sd =  np.sqrt(p_hat*(1-p_hat)/n)\n",
    "                print('p_hat_sd' + i + j,'=',p_sd)\n",
    "                psd_list.append(p_sd)\n",
    "    return(phat_list, psd_list)"
   ]
  },
  {
   "cell_type": "markdown",
   "metadata": {},
   "source": [
    "# 1. Construct the population"
   ]
  },
  {
   "cell_type": "code",
   "execution_count": 3,
   "metadata": {},
   "outputs": [],
   "source": [
    "population_size = 1000000\n",
    "populationdf = pd.DataFrame(list(range(population_size)))\n",
    "populationdf.columns = ['id']\n",
    "#construct whether the individuals are from cities or towns\n",
    "cities = ['bigCity']*100 + ['town']\n",
    "populationdf['cities'] = np.random.choice(cities,size = population_size)"
   ]
  },
  {
   "cell_type": "code",
   "execution_count": 4,
   "metadata": {},
   "outputs": [
    {
     "data": {
      "text/plain": [
       "bigCity    990023\n",
       "town         9977\n",
       "Name: cities, dtype: int64"
      ]
     },
     "execution_count": 4,
     "metadata": {},
     "output_type": "execute_result"
    }
   ],
   "source": [
    "#How many unique towns and cities are in the datast?\n",
    "populationdf.cities.value_counts()"
   ]
  },
  {
   "cell_type": "markdown",
   "metadata": {},
   "source": [
    "# 2. Randomly sample from the population"
   ]
  },
  {
   "cell_type": "code",
   "execution_count": 5,
   "metadata": {},
   "outputs": [],
   "source": [
    "experiment_size = int(400)\n",
    "completerandom_idx = populationdf.sample(int(experiment_size),random_state = 21).index\n",
    "\n",
    "completerandom_df = populationdf.loc[completerandom_idx,:]\n",
    "completerandom_df = assign_treatments(completerandom_df, experiment_size)"
   ]
  },
  {
   "cell_type": "code",
   "execution_count": 6,
   "metadata": {},
   "outputs": [
    {
     "data": {
      "text/html": [
       "<div>\n",
       "<style scoped>\n",
       "    .dataframe tbody tr th:only-of-type {\n",
       "        vertical-align: middle;\n",
       "    }\n",
       "\n",
       "    .dataframe tbody tr th {\n",
       "        vertical-align: top;\n",
       "    }\n",
       "\n",
       "    .dataframe thead th {\n",
       "        text-align: right;\n",
       "    }\n",
       "</style>\n",
       "<table border=\"1\" class=\"dataframe\">\n",
       "  <thead>\n",
       "    <tr style=\"text-align: right;\">\n",
       "      <th></th>\n",
       "      <th>id</th>\n",
       "      <th>cities</th>\n",
       "      <th>treatment</th>\n",
       "      <th>A</th>\n",
       "      <th>B</th>\n",
       "      <th>bigCity</th>\n",
       "      <th>town</th>\n",
       "    </tr>\n",
       "  </thead>\n",
       "  <tbody>\n",
       "    <tr>\n",
       "      <td>247908</td>\n",
       "      <td>247908</td>\n",
       "      <td>bigCity</td>\n",
       "      <td>B</td>\n",
       "      <td>0</td>\n",
       "      <td>1</td>\n",
       "      <td>1</td>\n",
       "      <td>0</td>\n",
       "    </tr>\n",
       "    <tr>\n",
       "      <td>949689</td>\n",
       "      <td>949689</td>\n",
       "      <td>bigCity</td>\n",
       "      <td>A</td>\n",
       "      <td>1</td>\n",
       "      <td>0</td>\n",
       "      <td>1</td>\n",
       "      <td>0</td>\n",
       "    </tr>\n",
       "    <tr>\n",
       "      <td>632400</td>\n",
       "      <td>632400</td>\n",
       "      <td>bigCity</td>\n",
       "      <td>A</td>\n",
       "      <td>1</td>\n",
       "      <td>0</td>\n",
       "      <td>1</td>\n",
       "      <td>0</td>\n",
       "    </tr>\n",
       "    <tr>\n",
       "      <td>898407</td>\n",
       "      <td>898407</td>\n",
       "      <td>bigCity</td>\n",
       "      <td>B</td>\n",
       "      <td>0</td>\n",
       "      <td>1</td>\n",
       "      <td>1</td>\n",
       "      <td>0</td>\n",
       "    </tr>\n",
       "    <tr>\n",
       "      <td>396017</td>\n",
       "      <td>396017</td>\n",
       "      <td>bigCity</td>\n",
       "      <td>A</td>\n",
       "      <td>1</td>\n",
       "      <td>0</td>\n",
       "      <td>1</td>\n",
       "      <td>0</td>\n",
       "    </tr>\n",
       "  </tbody>\n",
       "</table>\n",
       "</div>"
      ],
      "text/plain": [
       "            id   cities treatment  A  B  bigCity  town\n",
       "247908  247908  bigCity         B  0  1        1     0\n",
       "949689  949689  bigCity         A  1  0        1     0\n",
       "632400  632400  bigCity         A  1  0        1     0\n",
       "898407  898407  bigCity         B  0  1        1     0\n",
       "396017  396017  bigCity         A  1  0        1     0"
      ]
     },
     "execution_count": 6,
     "metadata": {},
     "output_type": "execute_result"
    }
   ],
   "source": [
    "completerandom_df.head()"
   ]
  },
  {
   "cell_type": "markdown",
   "metadata": {},
   "source": [
    "# 3. Calculate the expected response in click through rate"
   ]
  },
  {
   "cell_type": "code",
   "execution_count": 7,
   "metadata": {},
   "outputs": [],
   "source": [
    "completerandom_df['response'] = 0\n",
    "np.random.seed(42)\n",
    "#the plist is a list of the different binomial probabilities associated with a click\n",
    "#big cities have an initial p of 0.2, and towns have an initial p of 0.1\n",
    "#the lift from the treatment is an additional p of 0.05\n",
    "plist = [0.2,0.1,0.05]\n",
    "completerandom_df['response'] = calc_response(completerandom_df, plist, experiment_size)"
   ]
  },
  {
   "cell_type": "markdown",
   "metadata": {},
   "source": [
    "# 4. Calculate the mean and standard deviation for the A and B treatments\n",
    "- Here I'm simulating what would happen if I had conducted this experiment while ignoring the effect of city size"
   ]
  },
  {
   "cell_type": "code",
   "execution_count": 8,
   "metadata": {},
   "outputs": [
    {
     "name": "stdout",
     "output_type": "stream",
     "text": [
      "p_hatA = 0.225\n",
      "p_hat_sdA = 0.029527529527544293\n",
      "p_hatB = 0.27\n",
      "p_hat_sdB = 0.03139267430468452\n"
     ]
    }
   ],
   "source": [
    "phats, psds = pvalue_print(completerandom_df,level = 0)"
   ]
  },
  {
   "cell_type": "markdown",
   "metadata": {},
   "source": [
    "This is bad because it looks like the B treament is increasing by an enormous amount! What does the t-test show"
   ]
  },
  {
   "cell_type": "code",
   "execution_count": 9,
   "metadata": {},
   "outputs": [
    {
     "data": {
      "text/plain": [
       "Ttest_indResult(statistic=-1.0415359296112203, pvalue=0.29825914485492905)"
      ]
     },
     "execution_count": 9,
     "metadata": {},
     "output_type": "execute_result"
    }
   ],
   "source": [
    "stats.ttest_ind(completerandom_df['response'][completerandom_df['A']==1], \\\n",
    "                completerandom_df['response'][completerandom_df['B']==1])"
   ]
  },
  {
   "cell_type": "code",
   "execution_count": 10,
   "metadata": {
    "scrolled": true
   },
   "outputs": [
    {
     "data": {
      "image/png": "[encoded data removed]",
      "text/plain": [
       "<Figure size 360x288 with 1 Axes>"
      ]
     },
     "metadata": {
      "needs_background": "light"
     },
     "output_type": "display_data"
    }
   ],
   "source": [
    "plt.rcParams.update({'font.size': 16})\n",
    "plt.rcParams[\"figure.figsize\"] = (5,4)\n",
    "#Ok so let's plot the average purchase behavior of each price category by channel and by year\n",
    "fig, ax = plt.subplots()\n",
    "ncats = np.arange(1)\n",
    "width = 0.35\n",
    "rects1 = ax.bar(0, height = phats[0], width = width, yerr = psds[0], align='center', ecolor='black', capsize=5, label = 'A')\n",
    "rects2 = ax.bar(width*1.5, height = phats[1],width = width, yerr = psds[1], align='center', ecolor='black', capsize=5, label = 'B')\n",
    "ax.set_ylabel('Click through Probability')\n",
    "ax.set_xticks([0,width*1.5])\n",
    "ax.set_xticklabels(['A','B'])\n",
    "#ax.legend()\n",
    "\n",
    "# Save the figure and show\n",
    "plt.tight_layout()"
   ]
  },
  {
   "cell_type": "markdown",
   "metadata": {},
   "source": [
    "# 4. How many towns are in our dataset?"
   ]
  },
  {
   "cell_type": "code",
   "execution_count": 11,
   "metadata": {},
   "outputs": [
    {
     "name": "stdout",
     "output_type": "stream",
     "text": [
      "bigCity    393\n",
      "town         7\n",
      "Name: cities, dtype: int64\n",
      "bigCity    198\n",
      "town         2\n",
      "Name: cities, dtype: int64\n",
      "bigCity    195\n",
      "town         5\n",
      "Name: cities, dtype: int64\n"
     ]
    }
   ],
   "source": [
    "print(completerandom_df.cities.value_counts())\n",
    "print(completerandom_df[completerandom_df['A']==1].cities.value_counts())\n",
    "print(completerandom_df[completerandom_df['B']==1].cities.value_counts())"
   ]
  },
  {
   "cell_type": "markdown",
   "metadata": {},
   "source": [
    "# 5. Stratify sampling to include both towns and cities\n"
   ]
  },
  {
   "cell_type": "code",
   "execution_count": 12,
   "metadata": {},
   "outputs": [],
   "source": [
    "townid = populationdf['id'][populationdf['cities']=='town']\n",
    "bigcityid = populationdf['id'][populationdf['cities']=='bigCity']\n",
    "\n",
    "stratified_idx = list(townid.sample(int(experiment_size/2),random_state = 42).index) \\\n",
    "                 + list(bigcityid.sample(int(experiment_size/2),random_state = 42).index)\n",
    "stratified_df = populationdf.loc[stratified_idx,:]"
   ]
  },
  {
   "cell_type": "code",
   "execution_count": 13,
   "metadata": {},
   "outputs": [],
   "source": [
    "#randomly assign individuals from each class to a treatment\n",
    "stratified_df = assign_treatments(stratified_df, experiment_size, level = 1)"
   ]
  },
  {
   "cell_type": "markdown",
   "metadata": {},
   "source": [
    "# 6. Calculate response variable again"
   ]
  },
  {
   "cell_type": "code",
   "execution_count": 24,
   "metadata": {},
   "outputs": [],
   "source": [
    "stratified_df['response'] = 0\n",
    "np.random.seed(42)\n",
    "#the plist is a list of the different binomial probabilities associated with a click\n",
    "#big cities have an initial p of 0.2, and towns have an initial p of 0.1\n",
    "#the lift from the treatment is an additional p of 0.02\n",
    "plist = [0.2,0.1,0.05]\n",
    "stratified_df['response'] = calc_response(stratified_df, plist, experiment_size)"
   ]
  },
  {
   "cell_type": "code",
   "execution_count": 25,
   "metadata": {
    "scrolled": true
   },
   "outputs": [
    {
     "name": "stdout",
     "output_type": "stream",
     "text": [
      "p_hatA = 0.18\n",
      "p_hat_sdA = 0.027166155414412252\n",
      "p_hatB = 0.22\n",
      "p_hat_sdB = 0.02929163703175362\n"
     ]
    }
   ],
   "source": [
    "phats, psds = pvalue_print(stratified_df,level = 0)"
   ]
  },
  {
   "cell_type": "code",
   "execution_count": 26,
   "metadata": {},
   "outputs": [
    {
     "name": "stdout",
     "output_type": "stream",
     "text": [
      "p_hatAbigCity = 0.22\n",
      "p_hat_sdAbigCity = 0.04142463035441596\n",
      "p_hatAtown = 0.14\n",
      "p_hat_sdAtown = 0.03469870314579494\n",
      "p_hatBbigCity = 0.3\n",
      "p_hat_sdBbigCity = 0.0458257569495584\n",
      "p_hatBtown = 0.14\n",
      "p_hat_sdBtown = 0.03469870314579494\n"
     ]
    }
   ],
   "source": [
    "phats, psds = pvalue_print(stratified_df,level = 1)"
   ]
  },
  {
   "cell_type": "code",
   "execution_count": 27,
   "metadata": {},
   "outputs": [
    {
     "name": "stdout",
     "output_type": "stream",
     "text": [
      "town       200\n",
      "bigCity    200\n",
      "Name: cities, dtype: int64\n",
      "bigCity    100\n",
      "town       100\n",
      "Name: cities, dtype: int64\n",
      "bigCity    100\n",
      "town       100\n",
      "Name: cities, dtype: int64\n"
     ]
    }
   ],
   "source": [
    "print(stratified_df.cities.value_counts())\n",
    "print(stratified_df[stratified_df['A']==1].cities.value_counts())\n",
    "print(stratified_df[stratified_df['B']==1].cities.value_counts())"
   ]
  }
 ],
 "metadata": {
  "kernelspec": {
   "display_name": "Python 3",
   "language": "python",
   "name": "python3"
  },
  "language_info": {
   "codemirror_mode": {
    "name": "ipython",
    "version": 3
   },
   "file_extension": ".py",
   "mimetype": "text/x-python",
   "name": "python",
   "nbconvert_exporter": "python",
   "pygments_lexer": "ipython3",
   "version": "3.7.4"
  }
 },
 "nbformat": 4,
 "nbformat_minor": 2
}
